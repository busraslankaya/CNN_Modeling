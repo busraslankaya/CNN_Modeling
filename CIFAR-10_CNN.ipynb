{
  "cells": [
    {
      "cell_type": "code",
      "execution_count": 1,
      "metadata": {
        "id": "vJfPnMqgk66n"
      },
      "outputs": [],
      "source": [
        "import numpy as np\n",
        "import pandas as pd\n",
        "import tensorflow as tf\n",
        "import keras "
      ]
    },
    {
      "cell_type": "markdown",
      "metadata": {
        "id": "mPnt3N6jB7ks"
      },
      "source": [
        "We loaded the data with the tf.keras.datasets module from Keras datasets."
      ]
    },
    {
      "cell_type": "code",
      "execution_count": 2,
      "metadata": {
        "colab": {
          "base_uri": "https://localhost:8080/"
        },
        "id": "GcXFfJBe2j5b",
        "outputId": "546477f5-9608-43dc-ee7b-6c121994de6a"
      },
      "outputs": [
        {
          "name": "stdout",
          "output_type": "stream",
          "text": [
            "Downloading data from https://www.cs.toronto.edu/~kriz/cifar-10-python.tar.gz\n",
            "170500096/170498071 [==============================] - 4s 0us/step\n",
            "170508288/170498071 [==============================] - 4s 0us/step\n"
          ]
        }
      ],
      "source": [
        "from tensorflow.keras.utils import to_categorical\n",
        "from keras.datasets import cifar10\n",
        "\n",
        "(x_train, y_train), (x_test, y_test) = cifar10.load_data()"
      ]
    },
    {
      "cell_type": "markdown",
      "metadata": {
        "id": "4bxrpooxC1rV"
      },
      "source": []
    },
    {
      "cell_type": "code",
      "execution_count": 3,
      "metadata": {
        "id": "c4eJ5_T8sUZn"
      },
      "outputs": [],
      "source": [
        "input_shape = [None, 32, 32, 3]\n",
        "number_of_classes = 10\n",
        "\n",
        "y_train = to_categorical(y_train, number_of_classes)\n",
        "y_test = to_categorical(y_test, number_of_classes)"
      ]
    },
    {
      "cell_type": "markdown",
      "metadata": {
        "id": "zR-lda4gC-Kq"
      },
      "source": [
        "We printed shape of every training and testing"
      ]
    },
    {
      "cell_type": "code",
      "execution_count": 4,
      "metadata": {
        "colab": {
          "base_uri": "https://localhost:8080/"
        },
        "id": "lhd1wljjSLMu",
        "outputId": "5ff0c756-f5fc-4c2a-aa3c-67e95ec0720e"
      },
      "outputs": [
        {
          "name": "stdout",
          "output_type": "stream",
          "text": [
            "Shape of training features: (50000, 32, 32, 3)\n",
            "Shape of training lables: (50000, 10)\n",
            "Shape of testing features: (10000, 32, 32, 3)\n",
            "Shape of testing lables: (10000, 10)\n"
          ]
        }
      ],
      "source": [
        "\n",
        "print(\"Shape of training features: {}\".format(x_train.shape))\n",
        "print(\"Shape of training lables: {}\".format(y_train.shape))\n",
        "print(\"Shape of testing features: {}\".format(x_test.shape))\n",
        "print(\"Shape of testing lables: {}\".format(y_test.shape))\n",
        "\n"
      ]
    },
    {
      "cell_type": "markdown",
      "metadata": {
        "id": "qr1rNHuuDeQG"
      },
      "source": [
        "We showed some images examples from training data"
      ]
    },
    {
      "cell_type": "code",
      "execution_count": 5,
      "metadata": {
        "colab": {
          "base_uri": "https://localhost:8080/",
          "height": 283
        },
        "id": "XAcSeiviST4X",
        "outputId": "90856ff2-c87c-4fb6-c0e5-afd0af2044c1"
      },
      "outputs": [
        {
          "data": {
            "text/plain": [
              "<matplotlib.image.AxesImage at 0x7f3e234e29d0>"
            ]
          },
          "execution_count": 5,
          "metadata": {
            "tags": []
          },
          "output_type": "execute_result"
        },
        {
          "data": {
            "image/png": "[encoded data removed]",
            "text/plain": [
              "<Figure size 432x288 with 1 Axes>"
            ]
          },
          "metadata": {
            "needs_background": "light",
            "tags": []
          },
          "output_type": "display_data"
        }
      ],
      "source": [
        "import matplotlib.pyplot as plt\n",
        "plt.imshow(x_train[1])"
      ]
    },
    {
      "cell_type": "code",
      "execution_count": 6,
      "metadata": {
        "colab": {
          "base_uri": "https://localhost:8080/",
          "height": 283
        },
        "id": "l4DHBjONy-ub",
        "outputId": "3b4cf962-9f0d-4020-b57a-706cf9960959"
      },
      "outputs": [
        {
          "data": {
            "text/plain": [
              "<matplotlib.image.AxesImage at 0x7f3e22fdc110>"
            ]
          },
          "execution_count": 6,
          "metadata": {
            "tags": []
          },
          "output_type": "execute_result"
        },
        {
          "data": {
            "image/png": "[encoded data removed]",
            "text/plain": [
              "<Figure size 432x288 with 1 Axes>"
            ]
          },
          "metadata": {
            "needs_background": "light",
            "tags": []
          },
          "output_type": "display_data"
        }
      ],
      "source": [
        "plt.imshow(x_train[800])"
      ]
    },
    {
      "cell_type": "code",
      "execution_count": 7,
      "metadata": {
        "colab": {
          "base_uri": "https://localhost:8080/",
          "height": 283
        },
        "id": "TnM2F4W_zCJe",
        "outputId": "82a3b20c-abcc-4890-8f48-e64f49be6222"
      },
      "outputs": [
        {
          "data": {
            "text/plain": [
              "<matplotlib.image.AxesImage at 0x7f3e22f4fa90>"
            ]
          },
          "execution_count": 7,
          "metadata": {
            "tags": []
          },
          "output_type": "execute_result"
        },
        {
          "data": {
            "image/png": "[encoded data removed]",
            "text/plain": [
              "<Figure size 432x288 with 1 Axes>"
            ]
          },
          "metadata": {
            "needs_background": "light",
            "tags": []
          },
          "output_type": "display_data"
        }
      ],
      "source": [
        "plt.imshow(x_train[3050])"
      ]
    },
    {
      "cell_type": "markdown",
      "metadata": {
        "id": "h-jcScobEfMh"
      },
      "source": [
        "We splitted training data for cross validation."
      ]
    },
    {
      "cell_type": "code",
      "execution_count": 8,
      "metadata": {
        "colab": {
          "base_uri": "https://localhost:8080/"
        },
        "id": "I9vvhyvXST7E",
        "outputId": "ab8914d7-bbdb-4b07-a499-df59603dd92e"
      },
      "outputs": [
        {
          "name": "stdout",
          "output_type": "stream",
          "text": [
            "Number of examples in training set: 45000\n",
            "Number of examples in cross validation set: 5000\n"
          ]
        }
      ],
      "source": [
        "from sklearn.model_selection import train_test_split\n",
        "x_train, cv_x, y_train, cv_y = train_test_split(x_train, y_train, \n",
        "                                                test_size = 5000, random_state = 42)\n",
        "\n",
        "print(\"Number of examples in training set: {}\".format(x_train.shape[0]))\n",
        "print(\"Number of examples in cross validation set: {}\".format(cv_x.shape[0]))"
      ]
    },
    {
      "cell_type": "markdown",
      "metadata": {
        "id": "MIvxA4e8E4qu"
      },
      "source": [
        "All images will be rescaled by /255"
      ]
    },
    {
      "cell_type": "code",
      "execution_count": 9,
      "metadata": {
        "id": "aPKsdi8-ST-L"
      },
      "outputs": [],
      "source": [
        "x_train = x_train.astype('float32')\n",
        "x_test = x_test.astype('float32')\n",
        "x_train /= 255 \n",
        "x_test /= 255"
      ]
    },
    {
      "cell_type": "markdown",
      "metadata": {
        "id": "IOKBvTQZFXA9"
      },
      "source": [
        "**Building our network**\n",
        "\n",
        "Since we need to make more than two classifications, we used softmax activation instead of the sigmoid activation. So we better determined the probability that the input belongs to a particular class.\n",
        "As the depth of feature maps increases gradually in the network (from 32 to 64), the size of feature maps decreases.\n",
        "Dense layer is based on a large 512 unit layer followed by the final layer computing the softmax probabilities for each of the 10 categories corresponding to the 10 digits."
      ]
    },
    {
      "cell_type": "code",
      "execution_count": 10,
      "metadata": {
        "id": "4pUGvdYrTxoT"
      },
      "outputs": [],
      "source": [
        "from keras.models import Sequential\n",
        "from keras.layers import Dense, Dropout, Activation, Flatten\n",
        "from keras.layers import Conv2D, MaxPooling2D"
      ]
    },
    {
      "cell_type": "code",
      "execution_count": 11,
      "metadata": {
        "id": "kRyCzHCCU7pZ"
      },
      "outputs": [],
      "source": [
        "model = Sequential()\n",
        "model.add(Conv2D(32, (3, 3),activation ='relu',\n",
        "                 input_shape=x_train.shape[1:]))\n",
        "model.add(Conv2D(32, (3, 3), activation ='relu'))\n",
        "model.add(MaxPooling2D(pool_size=(2, 2)))\n",
        "model.add(Conv2D(64, (3, 3),activation ='relu'))\n",
        "model.add(Conv2D(64, (3, 3), activation ='relu'))\n",
        "model.add(MaxPooling2D(pool_size=(2, 2)))\n",
        "model.add(Flatten())\n",
        "model.add(Dense(512, activation = 'relu'))\n",
        "model.add(Dense(10, activation ='softmax'))\n"
      ]
    },
    {
      "cell_type": "markdown",
      "metadata": {
        "id": "-s474SE9K9R7"
      },
      "source": [
        "The dimensions of the feature maps change with every successive layer."
      ]
    },
    {
      "cell_type": "code",
      "execution_count": 12,
      "metadata": {
        "colab": {
          "base_uri": "https://localhost:8080/"
        },
        "id": "7NuNwWHxVGhD",
        "outputId": "554b81e9-866f-4507-c85e-4bdf384c3748"
      },
      "outputs": [
        {
          "name": "stdout",
          "output_type": "stream",
          "text": [
            "Model: \"sequential\"\n",
            "_________________________________________________________________\n",
            "Layer (type)                 Output Shape              Param #   \n",
            "=================================================================\n",
            "conv2d (Conv2D)              (None, 30, 30, 32)        896       \n",
            "_________________________________________________________________\n",
            "conv2d_1 (Conv2D)            (None, 28, 28, 32)        9248      \n",
            "_________________________________________________________________\n",
            "max_pooling2d (MaxPooling2D) (None, 14, 14, 32)        0         \n",
            "_________________________________________________________________\n",
            "conv2d_2 (Conv2D)            (None, 12, 12, 64)        18496     \n",
            "_________________________________________________________________\n",
            "conv2d_3 (Conv2D)            (None, 10, 10, 64)        36928     \n",
            "_________________________________________________________________\n",
            "max_pooling2d_1 (MaxPooling2 (None, 5, 5, 64)          0         \n",
            "_________________________________________________________________\n",
            "flatten (Flatten)            (None, 1600)              0         \n",
            "_________________________________________________________________\n",
            "dense (Dense)                (None, 512)               819712    \n",
            "_________________________________________________________________\n",
            "dense_1 (Dense)              (None, 10)                5130      \n",
            "=================================================================\n",
            "Total params: 890,410\n",
            "Trainable params: 890,410\n",
            "Non-trainable params: 0\n",
            "_________________________________________________________________\n"
          ]
        }
      ],
      "source": [
        "model.summary()"
      ]
    },
    {
      "cell_type": "markdown",
      "metadata": {
        "id": "PL64zYbGK_0A"
      },
      "source": [
        "We used binary crossentropy as our loss."
      ]
    },
    {
      "cell_type": "code",
      "execution_count": 13,
      "metadata": {
        "id": "5zGa5AEhdpaM"
      },
      "outputs": [],
      "source": [
        "from keras import optimizers\n",
        "model.compile(loss='binary_crossentropy',\n",
        "              optimizer=optimizers.RMSprop(learning_rate = 1e-4),\n",
        "              metrics=['acc'])"
      ]
    },
    {
      "cell_type": "markdown",
      "metadata": {
        "id": "rdb4lAsFLUbk"
      },
      "source": [
        "We set the epoch and batch size to fit the model. "
      ]
    },
    {
      "cell_type": "code",
      "execution_count": 14,
      "metadata": {
        "colab": {
          "base_uri": "https://localhost:8080/"
        },
        "id": "d-HTXW-WVWBu",
        "outputId": "7af6c0c0-2de1-44c0-bad7-0dd1a8a1596e"
      },
      "outputs": [
        {
          "name": "stdout",
          "output_type": "stream",
          "text": [
            "Epoch 1/30\n",
            "1407/1407 [==============================] - 51s 6ms/step - loss: 0.3062 - acc: 0.2581 - val_loss: 0.2443 - val_acc: 0.4311\n",
            "Epoch 2/30\n",
            "1407/1407 [==============================] - 7s 5ms/step - loss: 0.2365 - acc: 0.4528 - val_loss: 0.2210 - val_acc: 0.4859\n",
            "Epoch 3/30\n",
            "1407/1407 [==============================] - 7s 5ms/step - loss: 0.2155 - acc: 0.5125 - val_loss: 0.2090 - val_acc: 0.5214\n",
            "Epoch 4/30\n",
            "1407/1407 [==============================] - 7s 5ms/step - loss: 0.1993 - acc: 0.5613 - val_loss: 0.2066 - val_acc: 0.5408\n",
            "Epoch 5/30\n",
            "1407/1407 [==============================] - 7s 5ms/step - loss: 0.1861 - acc: 0.5981 - val_loss: 0.1894 - val_acc: 0.5899\n",
            "Epoch 6/30\n",
            "1407/1407 [==============================] - 7s 5ms/step - loss: 0.1750 - acc: 0.6264 - val_loss: 0.1818 - val_acc: 0.6087\n",
            "Epoch 7/30\n",
            "1407/1407 [==============================] - 8s 5ms/step - loss: 0.1649 - acc: 0.6548 - val_loss: 0.1859 - val_acc: 0.5994\n",
            "Epoch 8/30\n",
            "1407/1407 [==============================] - 8s 5ms/step - loss: 0.1566 - acc: 0.6773 - val_loss: 0.1662 - val_acc: 0.6490\n",
            "Epoch 9/30\n",
            "1407/1407 [==============================] - 7s 5ms/step - loss: 0.1490 - acc: 0.6966 - val_loss: 0.1689 - val_acc: 0.6412\n",
            "Epoch 10/30\n",
            "1407/1407 [==============================] - 7s 5ms/step - loss: 0.1411 - acc: 0.7163 - val_loss: 0.1553 - val_acc: 0.6772\n",
            "Epoch 11/30\n",
            "1407/1407 [==============================] - 7s 5ms/step - loss: 0.1342 - acc: 0.7327 - val_loss: 0.1672 - val_acc: 0.6560\n",
            "Epoch 12/30\n",
            "1407/1407 [==============================] - 7s 5ms/step - loss: 0.1283 - acc: 0.7487 - val_loss: 0.1541 - val_acc: 0.6848\n",
            "Epoch 13/30\n",
            "1407/1407 [==============================] - 7s 5ms/step - loss: 0.1225 - acc: 0.7609 - val_loss: 0.1475 - val_acc: 0.7043\n",
            "Epoch 14/30\n",
            "1407/1407 [==============================] - 7s 5ms/step - loss: 0.1161 - acc: 0.7754 - val_loss: 0.1438 - val_acc: 0.7096\n",
            "Epoch 15/30\n",
            "1407/1407 [==============================] - 7s 5ms/step - loss: 0.1111 - acc: 0.7886 - val_loss: 0.1485 - val_acc: 0.7039\n",
            "Epoch 16/30\n",
            "1407/1407 [==============================] - 7s 5ms/step - loss: 0.1047 - acc: 0.8062 - val_loss: 0.1492 - val_acc: 0.6996\n",
            "Epoch 17/30\n",
            "1407/1407 [==============================] - 7s 5ms/step - loss: 0.1003 - acc: 0.8170 - val_loss: 0.1464 - val_acc: 0.7215\n",
            "Epoch 18/30\n",
            "1407/1407 [==============================] - 7s 5ms/step - loss: 0.0946 - acc: 0.8333 - val_loss: 0.1526 - val_acc: 0.7141\n",
            "Epoch 19/30\n",
            "1407/1407 [==============================] - 7s 5ms/step - loss: 0.0894 - acc: 0.8423 - val_loss: 0.1525 - val_acc: 0.7259\n",
            "Epoch 20/30\n",
            "1407/1407 [==============================] - 7s 5ms/step - loss: 0.0848 - acc: 0.8528 - val_loss: 0.1468 - val_acc: 0.7294\n",
            "Epoch 21/30\n",
            "1407/1407 [==============================] - 7s 5ms/step - loss: 0.0803 - acc: 0.8657 - val_loss: 0.1533 - val_acc: 0.7162\n",
            "Epoch 22/30\n",
            "1407/1407 [==============================] - 7s 5ms/step - loss: 0.0765 - acc: 0.8730 - val_loss: 0.1580 - val_acc: 0.7139\n",
            "Epoch 23/30\n",
            "1407/1407 [==============================] - 7s 5ms/step - loss: 0.0720 - acc: 0.8849 - val_loss: 0.1734 - val_acc: 0.6915\n",
            "Epoch 24/30\n",
            "1407/1407 [==============================] - 7s 5ms/step - loss: 0.0693 - acc: 0.8909 - val_loss: 0.1811 - val_acc: 0.7085\n",
            "Epoch 25/30\n",
            "1407/1407 [==============================] - 7s 5ms/step - loss: 0.0662 - acc: 0.8970 - val_loss: 0.1781 - val_acc: 0.7224\n",
            "Epoch 26/30\n",
            "1407/1407 [==============================] - 7s 5ms/step - loss: 0.0611 - acc: 0.9121 - val_loss: 0.1806 - val_acc: 0.7017\n",
            "Epoch 27/30\n",
            "1407/1407 [==============================] - 7s 5ms/step - loss: 0.0585 - acc: 0.9163 - val_loss: 0.1714 - val_acc: 0.7201\n",
            "Epoch 28/30\n",
            "1407/1407 [==============================] - 7s 5ms/step - loss: 0.0557 - acc: 0.9211 - val_loss: 0.1810 - val_acc: 0.7260\n",
            "Epoch 29/30\n",
            "1407/1407 [==============================] - 7s 5ms/step - loss: 0.0534 - acc: 0.9278 - val_loss: 0.2090 - val_acc: 0.7158\n",
            "Epoch 30/30\n",
            "1407/1407 [==============================] - 7s 5ms/step - loss: 0.0516 - acc: 0.9307 - val_loss: 0.1870 - val_acc: 0.7159\n"
          ]
        }
      ],
      "source": [
        "history = model.fit(x_train, y_train,\n",
        "              batch_size=32,\n",
        "              epochs=30,\n",
        "              validation_data=(x_test, y_test),\n",
        "              shuffle=True\n",
        "        )"
      ]
    },
    {
      "cell_type": "markdown",
      "metadata": {
        "id": "_gTVUo4rNIig"
      },
      "source": [
        "Let's plot the loss and accuracy of the model over the training and validation data during training:"
      ]
    },
    {
      "cell_type": "code",
      "execution_count": 15,
      "metadata": {
        "colab": {
          "base_uri": "https://localhost:8080/",
          "height": 545
        },
        "id": "njtC2kNSXA9O",
        "outputId": "cf319cfb-5a69-4baf-aa2e-c7c28902f06b"
      },
      "outputs": [
        {
          "data": {
            "image/png": "[encoded data removed]",
            "text/plain": [
              "<Figure size 432x288 with 1 Axes>"
            ]
          },
          "metadata": {
            "needs_background": "light",
            "tags": []
          },
          "output_type": "display_data"
        },
        {
          "data": {
            "image/png": "[encoded data removed]",
            "text/plain": [
              "<Figure size 432x288 with 1 Axes>"
            ]
          },
          "metadata": {
            "needs_background": "light",
            "tags": []
          },
          "output_type": "display_data"
        }
      ],
      "source": [
        "import matplotlib.pyplot as plt\n",
        "\n",
        "acc = history.history['acc']\n",
        "val_acc = history.history['val_acc']\n",
        "loss = history.history['loss']\n",
        "val_loss = history.history['val_loss']\n",
        "\n",
        "epochs = range(len(acc))\n",
        "\n",
        "plt.plot(epochs, acc, 'bo', label='Training acc')\n",
        "plt.plot(epochs, val_acc, 'b', label='Validation acc')\n",
        "plt.title('Training and validation accuracy')\n",
        "plt.legend()\n",
        "\n",
        "plt.figure()\n",
        "\n",
        "plt.plot(epochs, loss, 'bo', label='Training loss')\n",
        "plt.plot(epochs, val_loss, 'b', label='Validation loss')\n",
        "plt.title('Training and validation loss')\n",
        "plt.legend()\n",
        "\n",
        "plt.show()"
      ]
    },
    {
      "cell_type": "markdown",
      "metadata": {
        "id": "R6HOhPkYNQ1B"
      },
      "source": [
        "Our training accuracy increases linearly over time, until it reaches nearly 100%, while our validation accuracy stalls at 70-72%.  While the training loss keeps decreasing linearly until it reaches nearly 0."
      ]
    },
    {
      "cell_type": "code",
      "execution_count": 18,
      "metadata": {
        "colab": {
          "base_uri": "https://localhost:8080/"
        },
        "id": "_e98IrJGlt1R",
        "outputId": "7bf044ed-d968-4f42-da23-2392169e6db1"
      },
      "outputs": [
        {
          "name": "stdout",
          "output_type": "stream",
          "text": [
            "313/313 [==============================] - 1s 3ms/step - loss: 0.1870 - acc: 0.7159\n",
            "Test loss: 0.18695993721485138\n",
            "Test accuracy: 0.7159000039100647\n"
          ]
        }
      ],
      "source": [
        "scores = model.evaluate(x_test, y_test, verbose=1)\n",
        "print('Test loss:', scores[0])\n",
        "print('Test accuracy:', scores[1])\n",
        "\n"
      ]
    },
    {
      "cell_type": "code",
      "execution_count": 21,
      "metadata": {
        "colab": {
          "base_uri": "https://localhost:8080/"
        },
        "id": "FaPU6sqDgOZd",
        "outputId": "b4e5a41e-cb8e-4e27-8a94-2c0695c5fba9"
      },
      "outputs": [
        {
          "name": "stdout",
          "output_type": "stream",
          "text": [
            "WARNING:tensorflow:Compiled the loaded model, but the compiled metrics have yet to be built. `model.compile_metrics` will be empty until you train or evaluate the model.\n"
          ]
        }
      ],
      "source": [
        "#Save the first model\n",
        "import sys\n",
        "model_name = 'cifar10_model_1.h5'\n",
        "# Save the current directory\n",
        "sys.path.insert(0, 'C:\\\\Users\\\\HP\\\\Desktop\\\\')\n",
        "model.save('C:\\\\Users\\\\HP\\\\Desktop\\\\' + model_name)"
      ]
    },
    {
      "cell_type": "markdown",
      "metadata": {
        "id": "BtE4oKtoPrrO"
      },
      "source": [
        "We used padding to protect image size. To avoid overfitting, we used data dropout and increased the dropout value."
      ]
    },
    {
      "cell_type": "code",
      "execution_count": 22,
      "metadata": {
        "id": "wYxewVfyTxq5"
      },
      "outputs": [],
      "source": [
        "model = Sequential()\n",
        "model.add(Conv2D(32, (3, 3),activation ='relu', padding='same',\n",
        "                 input_shape=x_train.shape[1:]))\n",
        "model.add(Conv2D(32, (3, 3),activation ='relu'))\n",
        "model.add(MaxPooling2D(pool_size=(2, 2)))\n",
        "model.add(Dropout(0.25))\n",
        "\n",
        "model.add(Conv2D(64, (3, 3), padding='same',activation ='relu'))\n",
        "model.add(Conv2D(64, (3, 3),activation ='relu'))\n",
        "model.add(MaxPooling2D(pool_size=(2, 2)))\n",
        "model.add(Dropout(0.25))\n",
        "model.add(Flatten())\n",
        "model.add(Dense(512,activation ='relu'))\n",
        "model.add(Dropout(0.5))\n",
        "model.add(Dense(10,activation ='softmax'))"
      ]
    },
    {
      "cell_type": "markdown",
      "metadata": {
        "id": "PC8chHFySdyl"
      },
      "source": [
        "The dimensions of the feature maps change with every successive layer."
      ]
    },
    {
      "cell_type": "code",
      "execution_count": 23,
      "metadata": {
        "colab": {
          "base_uri": "https://localhost:8080/"
        },
        "id": "bPci3JkqY2ir",
        "outputId": "c19daaf0-1ac2-4808-f3a6-2c2e4c448428"
      },
      "outputs": [
        {
          "name": "stdout",
          "output_type": "stream",
          "text": [
            "Model: \"sequential_2\"\n",
            "_________________________________________________________________\n",
            "Layer (type)                 Output Shape              Param #   \n",
            "=================================================================\n",
            "conv2d_8 (Conv2D)            (None, 32, 32, 32)        896       \n",
            "_________________________________________________________________\n",
            "conv2d_9 (Conv2D)            (None, 30, 30, 32)        9248      \n",
            "_________________________________________________________________\n",
            "max_pooling2d_4 (MaxPooling2 (None, 15, 15, 32)        0         \n",
            "_________________________________________________________________\n",
            "dropout_3 (Dropout)          (None, 15, 15, 32)        0         \n",
            "_________________________________________________________________\n",
            "conv2d_10 (Conv2D)           (None, 15, 15, 64)        18496     \n",
            "_________________________________________________________________\n",
            "conv2d_11 (Conv2D)           (None, 13, 13, 64)        36928     \n",
            "_________________________________________________________________\n",
            "max_pooling2d_5 (MaxPooling2 (None, 6, 6, 64)          0         \n",
            "_________________________________________________________________\n",
            "dropout_4 (Dropout)          (None, 6, 6, 64)          0         \n",
            "_________________________________________________________________\n",
            "flatten_2 (Flatten)          (None, 2304)              0         \n",
            "_________________________________________________________________\n",
            "dense_4 (Dense)              (None, 512)               1180160   \n",
            "_________________________________________________________________\n",
            "dropout_5 (Dropout)          (None, 512)               0         \n",
            "_________________________________________________________________\n",
            "dense_5 (Dense)              (None, 10)                5130      \n",
            "=================================================================\n",
            "Total params: 1,250,858\n",
            "Trainable params: 1,250,858\n",
            "Non-trainable params: 0\n",
            "_________________________________________________________________\n"
          ]
        }
      ],
      "source": [
        "model.summary()"
      ]
    },
    {
      "cell_type": "markdown",
      "metadata": {
        "id": "QZXgWcuhSgZ3"
      },
      "source": [
        "We can either instantiate an optimizer before passing it to model.compile() , as in the example, or we can pass it by its string identifier. "
      ]
    },
    {
      "cell_type": "code",
      "execution_count": 25,
      "metadata": {
        "id": "uRir22qETxww"
      },
      "outputs": [],
      "source": [
        "opt = keras.optimizers.Adam(learning_rate=0.0001)\n",
        "model.compile(loss='categorical_crossentropy',\n",
        "              optimizer=opt,\n",
        "              metrics=['accuracy'])"
      ]
    },
    {
      "cell_type": "markdown",
      "metadata": {
        "id": "R5lCs4H6TCw7"
      },
      "source": [
        "We set the epoch and batch size to fit the model and we increased the epoch number."
      ]
    },
    {
      "cell_type": "code",
      "execution_count": 26,
      "metadata": {
        "colab": {
          "base_uri": "https://localhost:8080/"
        },
        "id": "Av84SEIRTx0X",
        "outputId": "32b595c7-e24f-47b5-be30-60b2a853e045"
      },
      "outputs": [
        {
          "name": "stdout",
          "output_type": "stream",
          "text": [
            "Epoch 1/50\n",
            "1407/1407 [==============================] - 9s 5ms/step - loss: 2.0058 - accuracy: 0.2544 - val_loss: 1.5051 - val_accuracy: 0.4435\n",
            "Epoch 2/50\n",
            "1407/1407 [==============================] - 7s 5ms/step - loss: 1.5181 - accuracy: 0.4446 - val_loss: 1.3257 - val_accuracy: 0.5208\n",
            "Epoch 3/50\n",
            "1407/1407 [==============================] - 8s 5ms/step - loss: 1.3654 - accuracy: 0.5079 - val_loss: 1.2119 - val_accuracy: 0.5721\n",
            "Epoch 4/50\n",
            "1407/1407 [==============================] - 7s 5ms/step - loss: 1.2824 - accuracy: 0.5461 - val_loss: 1.1359 - val_accuracy: 0.6010\n",
            "Epoch 5/50\n",
            "1407/1407 [==============================] - 8s 5ms/step - loss: 1.1905 - accuracy: 0.5757 - val_loss: 1.0814 - val_accuracy: 0.6227\n",
            "Epoch 6/50\n",
            "1407/1407 [==============================] - 7s 5ms/step - loss: 1.1249 - accuracy: 0.6070 - val_loss: 1.0166 - val_accuracy: 0.6471\n",
            "Epoch 7/50\n",
            "1407/1407 [==============================] - 7s 5ms/step - loss: 1.0614 - accuracy: 0.6291 - val_loss: 0.9658 - val_accuracy: 0.6690\n",
            "Epoch 8/50\n",
            "1407/1407 [==============================] - 8s 5ms/step - loss: 1.0025 - accuracy: 0.6503 - val_loss: 0.9304 - val_accuracy: 0.6787\n",
            "Epoch 9/50\n",
            "1407/1407 [==============================] - 7s 5ms/step - loss: 0.9481 - accuracy: 0.6689 - val_loss: 0.9306 - val_accuracy: 0.6765\n",
            "Epoch 10/50\n",
            "1407/1407 [==============================] - 8s 5ms/step - loss: 0.9198 - accuracy: 0.6795 - val_loss: 0.8499 - val_accuracy: 0.7086\n",
            "Epoch 11/50\n",
            "1407/1407 [==============================] - 7s 5ms/step - loss: 0.8818 - accuracy: 0.6923 - val_loss: 0.8356 - val_accuracy: 0.7184\n",
            "Epoch 12/50\n",
            "1407/1407 [==============================] - 8s 5ms/step - loss: 0.8417 - accuracy: 0.7052 - val_loss: 0.7976 - val_accuracy: 0.7286\n",
            "Epoch 13/50\n",
            "1407/1407 [==============================] - 7s 5ms/step - loss: 0.8021 - accuracy: 0.7231 - val_loss: 0.7803 - val_accuracy: 0.7279\n",
            "Epoch 14/50\n",
            "1407/1407 [==============================] - 8s 5ms/step - loss: 0.7772 - accuracy: 0.7297 - val_loss: 0.7619 - val_accuracy: 0.7393\n",
            "Epoch 15/50\n",
            "1407/1407 [==============================] - 8s 5ms/step - loss: 0.7491 - accuracy: 0.7402 - val_loss: 0.7446 - val_accuracy: 0.7475\n",
            "Epoch 16/50\n",
            "1407/1407 [==============================] - 7s 5ms/step - loss: 0.7287 - accuracy: 0.7471 - val_loss: 0.7296 - val_accuracy: 0.7547\n",
            "Epoch 17/50\n",
            "1407/1407 [==============================] - 7s 5ms/step - loss: 0.7059 - accuracy: 0.7533 - val_loss: 0.7132 - val_accuracy: 0.7570\n",
            "Epoch 18/50\n",
            "1407/1407 [==============================] - 7s 5ms/step - loss: 0.6766 - accuracy: 0.7615 - val_loss: 0.6990 - val_accuracy: 0.7610\n",
            "Epoch 19/50\n",
            "1407/1407 [==============================] - 7s 5ms/step - loss: 0.6587 - accuracy: 0.7700 - val_loss: 0.6971 - val_accuracy: 0.7641\n",
            "Epoch 20/50\n",
            "1407/1407 [==============================] - 7s 5ms/step - loss: 0.6410 - accuracy: 0.7766 - val_loss: 0.6856 - val_accuracy: 0.7656\n",
            "Epoch 21/50\n",
            "1407/1407 [==============================] - 7s 5ms/step - loss: 0.6199 - accuracy: 0.7838 - val_loss: 0.6707 - val_accuracy: 0.7697\n",
            "Epoch 22/50\n",
            "1407/1407 [==============================] - 7s 5ms/step - loss: 0.5934 - accuracy: 0.7904 - val_loss: 0.6840 - val_accuracy: 0.7669\n",
            "Epoch 23/50\n",
            "1407/1407 [==============================] - 7s 5ms/step - loss: 0.5819 - accuracy: 0.7972 - val_loss: 0.6665 - val_accuracy: 0.7695\n",
            "Epoch 24/50\n",
            "1407/1407 [==============================] - 8s 5ms/step - loss: 0.5688 - accuracy: 0.8015 - val_loss: 0.6576 - val_accuracy: 0.7751\n",
            "Epoch 25/50\n",
            "1407/1407 [==============================] - 7s 5ms/step - loss: 0.5513 - accuracy: 0.8079 - val_loss: 0.6817 - val_accuracy: 0.7683\n",
            "Epoch 26/50\n",
            "1407/1407 [==============================] - 8s 5ms/step - loss: 0.5347 - accuracy: 0.8099 - val_loss: 0.6601 - val_accuracy: 0.7754\n",
            "Epoch 27/50\n",
            "1407/1407 [==============================] - 8s 5ms/step - loss: 0.5225 - accuracy: 0.8204 - val_loss: 0.6478 - val_accuracy: 0.7803\n",
            "Epoch 28/50\n",
            "1407/1407 [==============================] - 7s 5ms/step - loss: 0.5089 - accuracy: 0.8227 - val_loss: 0.6409 - val_accuracy: 0.7804\n",
            "Epoch 29/50\n",
            "1407/1407 [==============================] - 8s 5ms/step - loss: 0.4921 - accuracy: 0.8278 - val_loss: 0.6429 - val_accuracy: 0.7821\n",
            "Epoch 30/50\n",
            "1407/1407 [==============================] - 7s 5ms/step - loss: 0.4759 - accuracy: 0.8320 - val_loss: 0.6311 - val_accuracy: 0.7871\n",
            "Epoch 31/50\n",
            "1407/1407 [==============================] - 8s 5ms/step - loss: 0.4688 - accuracy: 0.8373 - val_loss: 0.6343 - val_accuracy: 0.7874\n",
            "Epoch 32/50\n",
            "1407/1407 [==============================] - 7s 5ms/step - loss: 0.4568 - accuracy: 0.8384 - val_loss: 0.6366 - val_accuracy: 0.7856\n",
            "Epoch 33/50\n",
            "1407/1407 [==============================] - 7s 5ms/step - loss: 0.4422 - accuracy: 0.8459 - val_loss: 0.6452 - val_accuracy: 0.7850\n",
            "Epoch 34/50\n",
            "1407/1407 [==============================] - 7s 5ms/step - loss: 0.4232 - accuracy: 0.8514 - val_loss: 0.6343 - val_accuracy: 0.7898\n",
            "Epoch 35/50\n",
            "1407/1407 [==============================] - 7s 5ms/step - loss: 0.4151 - accuracy: 0.8527 - val_loss: 0.6339 - val_accuracy: 0.7889\n",
            "Epoch 36/50\n",
            "1407/1407 [==============================] - 7s 5ms/step - loss: 0.4003 - accuracy: 0.8585 - val_loss: 0.6450 - val_accuracy: 0.7877\n",
            "Epoch 37/50\n",
            "1407/1407 [==============================] - 8s 5ms/step - loss: 0.4047 - accuracy: 0.8571 - val_loss: 0.6336 - val_accuracy: 0.7925\n",
            "Epoch 38/50\n",
            "1407/1407 [==============================] - 7s 5ms/step - loss: 0.3862 - accuracy: 0.8631 - val_loss: 0.6330 - val_accuracy: 0.7910\n",
            "Epoch 39/50\n",
            "1407/1407 [==============================] - 7s 5ms/step - loss: 0.3875 - accuracy: 0.8616 - val_loss: 0.6375 - val_accuracy: 0.7938\n",
            "Epoch 40/50\n",
            "1407/1407 [==============================] - 7s 5ms/step - loss: 0.3699 - accuracy: 0.8662 - val_loss: 0.6313 - val_accuracy: 0.7910\n",
            "Epoch 41/50\n",
            "1407/1407 [==============================] - 8s 5ms/step - loss: 0.3615 - accuracy: 0.8680 - val_loss: 0.6296 - val_accuracy: 0.7922\n",
            "Epoch 42/50\n",
            "1407/1407 [==============================] - 7s 5ms/step - loss: 0.3396 - accuracy: 0.8798 - val_loss: 0.6633 - val_accuracy: 0.7908\n",
            "Epoch 43/50\n",
            "1407/1407 [==============================] - 8s 5ms/step - loss: 0.3370 - accuracy: 0.8832 - val_loss: 0.6411 - val_accuracy: 0.7937\n",
            "Epoch 44/50\n",
            "1407/1407 [==============================] - 8s 5ms/step - loss: 0.3364 - accuracy: 0.8811 - val_loss: 0.6476 - val_accuracy: 0.7924\n",
            "Epoch 45/50\n",
            "1407/1407 [==============================] - 8s 5ms/step - loss: 0.3241 - accuracy: 0.8858 - val_loss: 0.6376 - val_accuracy: 0.7948\n",
            "Epoch 46/50\n",
            "1407/1407 [==============================] - 7s 5ms/step - loss: 0.3210 - accuracy: 0.8848 - val_loss: 0.6449 - val_accuracy: 0.7961\n",
            "Epoch 47/50\n",
            "1407/1407 [==============================] - 8s 5ms/step - loss: 0.3066 - accuracy: 0.8902 - val_loss: 0.6421 - val_accuracy: 0.7969\n",
            "Epoch 48/50\n",
            "1407/1407 [==============================] - 8s 5ms/step - loss: 0.3063 - accuracy: 0.8924 - val_loss: 0.6555 - val_accuracy: 0.7951\n",
            "Epoch 49/50\n",
            "1407/1407 [==============================] - 7s 5ms/step - loss: 0.3009 - accuracy: 0.8908 - val_loss: 0.6464 - val_accuracy: 0.7946\n",
            "Epoch 50/50\n",
            "1407/1407 [==============================] - 7s 5ms/step - loss: 0.2977 - accuracy: 0.8953 - val_loss: 0.6415 - val_accuracy: 0.7973\n"
          ]
        }
      ],
      "source": [
        "history = model.fit(x_train, y_train,\n",
        "              batch_size=32,\n",
        "              epochs=50,\n",
        "              validation_data=(x_test, y_test),\n",
        "              shuffle=True)"
      ]
    },
    {
      "cell_type": "markdown",
      "metadata": {
        "id": "T67afk81TSSg"
      },
      "source": [
        "Let's plot the loss and accuracy of the model over the training and validation data during training:"
      ]
    },
    {
      "cell_type": "code",
      "execution_count": 27,
      "metadata": {
        "colab": {
          "base_uri": "https://localhost:8080/",
          "height": 545
        },
        "id": "FOYSz1j7jghV",
        "outputId": "6072853c-3eab-402f-9f9b-c4557454474d"
      },
      "outputs": [
        {
          "data": {
            "image/png": "[encoded data removed]",
            "text/plain": [
              "<Figure size 432x288 with 1 Axes>"
            ]
          },
          "metadata": {
            "needs_background": "light",
            "tags": []
          },
          "output_type": "display_data"
        },
        {
          "data": {
            "image/png": "[encoded data removed]",
            "text/plain": [
              "<Figure size 432x288 with 1 Axes>"
            ]
          },
          "metadata": {
            "needs_background": "light",
            "tags": []
          },
          "output_type": "display_data"
        }
      ],
      "source": [
        "import matplotlib.pyplot as plt\n",
        "\n",
        "acc = history.history['accuracy']\n",
        "val_acc = history.history['val_accuracy']\n",
        "loss = history.history['loss']\n",
        "val_loss = history.history['val_loss']\n",
        "\n",
        "epochs = range(len(acc))\n",
        "\n",
        "plt.plot(epochs, acc, 'bo', label='Training acc')\n",
        "plt.plot(epochs, val_acc, 'b', label='Validation acc')\n",
        "plt.title('Training and validation accuracy')\n",
        "plt.legend()\n",
        "\n",
        "plt.figure()\n",
        "\n",
        "plt.plot(epochs, loss, 'bo', label='Training loss')\n",
        "plt.plot(epochs, val_loss, 'b', label='Validation loss')\n",
        "plt.title('Training and validation loss')\n",
        "plt.legend()\n",
        "\n",
        "plt.show()"
      ]
    },
    {
      "cell_type": "markdown",
      "metadata": {
        "id": "WwoJ4J-BUMPQ"
      },
      "source": [
        "Thanks to the dropout we used in our second model, our accuracy increased to 0.797, an increase of 11.4% compared to our first model."
      ]
    },
    {
      "cell_type": "code",
      "execution_count": 28,
      "metadata": {
        "colab": {
          "base_uri": "https://localhost:8080/"
        },
        "id": "t4Pi9edXlg6A",
        "outputId": "38ef48e0-3b4c-41e4-a2ea-1d245592753f"
      },
      "outputs": [
        {
          "name": "stdout",
          "output_type": "stream",
          "text": [
            "313/313 [==============================] - 1s 3ms/step - loss: 0.6415 - accuracy: 0.7973\n",
            "Test loss: 0.6415216326713562\n",
            "Test accuracy: 0.7972999811172485\n"
          ]
        }
      ],
      "source": [
        "scores = model.evaluate(x_test, y_test, verbose=1)\n",
        "print('Test loss:', scores[0])\n",
        "print('Test accuracy:', scores[1])\n",
        "\n"
      ]
    },
    {
      "cell_type": "code",
      "execution_count": 30,
      "metadata": {
        "id": "1wfwJJuikmE6"
      },
      "outputs": [],
      "source": [
        "#Save the second model\n",
        "import sys\n",
        "model_name = 'cifar10_model_2.h5'\n",
        "# Save the current directory\n",
        "sys.path.insert(0, 'C:\\\\Users\\\\HP\\\\Desktop\\\\')\n",
        "model.save('C:\\\\Users\\\\HP\\\\Desktop\\\\' + model_name)"
      ]
    }
  ],
  "metadata": {
    "accelerator": "GPU",
    "colab": {
      "collapsed_sections": [],
      "name": "cifar_10_ipynb_adlı_not_defterinin_kopyası.ipynb",
      "provenance": []
    },
    "kernelspec": {
      "display_name": "Python 3",
      "name": "python3"
    }
  },
  "nbformat": 4,
  "nbformat_minor": 0
}
